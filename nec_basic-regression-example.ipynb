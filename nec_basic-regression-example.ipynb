{
 "cells": [
  {
   "cell_type": "code",
   "execution_count": 87,
   "metadata": {
    "scrolled": true
   },
   "outputs": [
    {
     "name": "stdout",
     "output_type": "stream",
     "text": [
      "Populating the interactive namespace from numpy and matplotlib\n"
     ]
    }
   ],
   "source": [
    "import pandas as pd\n",
    "import numpy as np\n",
    "from sklearn.linear_model import LinearRegression\n",
    "%pylab inline\n",
    "import matplotlib.pyplot as plt\n",
    "from scipy.stats.stats import pearsonr\n"
   ]
  },
  {
   "cell_type": "code",
   "execution_count": 74,
   "metadata": {
    "collapsed": true
   },
   "outputs": [],
   "source": [
    "data=pd.read_csv(\"linear-reg-sample.csv\") #load from the jupyter directory"
   ]
  },
  {
   "cell_type": "code",
   "execution_count": 75,
   "metadata": {
    "scrolled": false
   },
   "outputs": [
    {
     "data": {
      "text/html": [
       "<div>\n",
       "<style>\n",
       "    .dataframe thead tr:only-child th {\n",
       "        text-align: right;\n",
       "    }\n",
       "\n",
       "    .dataframe thead th {\n",
       "        text-align: left;\n",
       "    }\n",
       "\n",
       "    .dataframe tbody tr th {\n",
       "        vertical-align: top;\n",
       "    }\n",
       "</style>\n",
       "<table border=\"1\" class=\"dataframe\">\n",
       "  <thead>\n",
       "    <tr style=\"text-align: right;\">\n",
       "      <th></th>\n",
       "      <th>x</th>\n",
       "      <th>y</th>\n",
       "    </tr>\n",
       "  </thead>\n",
       "  <tbody>\n",
       "    <tr>\n",
       "      <th>0</th>\n",
       "      <td>77</td>\n",
       "      <td>79.775152</td>\n",
       "    </tr>\n",
       "    <tr>\n",
       "      <th>1</th>\n",
       "      <td>21</td>\n",
       "      <td>23.177279</td>\n",
       "    </tr>\n",
       "    <tr>\n",
       "      <th>2</th>\n",
       "      <td>22</td>\n",
       "      <td>25.609262</td>\n",
       "    </tr>\n",
       "  </tbody>\n",
       "</table>\n",
       "</div>"
      ],
      "text/plain": [
       "    x          y\n",
       "0  77  79.775152\n",
       "1  21  23.177279\n",
       "2  22  25.609262"
      ]
     },
     "execution_count": 75,
     "metadata": {},
     "output_type": "execute_result"
    }
   ],
   "source": [
    "data.head(3)"
   ]
  },
  {
   "cell_type": "code",
   "execution_count": 76,
   "metadata": {
    "scrolled": true
   },
   "outputs": [
    {
     "data": {
      "text/plain": [
       "x    0\n",
       "y    0\n",
       "dtype: int64"
      ]
     },
     "execution_count": 76,
     "metadata": {},
     "output_type": "execute_result"
    }
   ],
   "source": [
    "data.isnull().sum()"
   ]
  },
  {
   "cell_type": "code",
   "execution_count": 77,
   "metadata": {
    "scrolled": true
   },
   "outputs": [
    {
     "data": {
      "text/html": [
       "<div>\n",
       "<style>\n",
       "    .dataframe thead tr:only-child th {\n",
       "        text-align: right;\n",
       "    }\n",
       "\n",
       "    .dataframe thead th {\n",
       "        text-align: left;\n",
       "    }\n",
       "\n",
       "    .dataframe tbody tr th {\n",
       "        vertical-align: top;\n",
       "    }\n",
       "</style>\n",
       "<table border=\"1\" class=\"dataframe\">\n",
       "  <thead>\n",
       "    <tr style=\"text-align: right;\">\n",
       "      <th></th>\n",
       "      <th>x</th>\n",
       "      <th>y</th>\n",
       "    </tr>\n",
       "  </thead>\n",
       "  <tbody>\n",
       "    <tr>\n",
       "      <th>count</th>\n",
       "      <td>300.000000</td>\n",
       "      <td>300.000000</td>\n",
       "    </tr>\n",
       "    <tr>\n",
       "      <th>mean</th>\n",
       "      <td>50.936667</td>\n",
       "      <td>51.205051</td>\n",
       "    </tr>\n",
       "    <tr>\n",
       "      <th>std</th>\n",
       "      <td>28.504286</td>\n",
       "      <td>29.071481</td>\n",
       "    </tr>\n",
       "    <tr>\n",
       "      <th>min</th>\n",
       "      <td>0.000000</td>\n",
       "      <td>-3.467884</td>\n",
       "    </tr>\n",
       "    <tr>\n",
       "      <th>25%</th>\n",
       "      <td>27.000000</td>\n",
       "      <td>25.676502</td>\n",
       "    </tr>\n",
       "    <tr>\n",
       "      <th>50%</th>\n",
       "      <td>53.000000</td>\n",
       "      <td>52.170557</td>\n",
       "    </tr>\n",
       "    <tr>\n",
       "      <th>75%</th>\n",
       "      <td>73.000000</td>\n",
       "      <td>74.303007</td>\n",
       "    </tr>\n",
       "    <tr>\n",
       "      <th>max</th>\n",
       "      <td>100.000000</td>\n",
       "      <td>105.591837</td>\n",
       "    </tr>\n",
       "  </tbody>\n",
       "</table>\n",
       "</div>"
      ],
      "text/plain": [
       "                x           y\n",
       "count  300.000000  300.000000\n",
       "mean    50.936667   51.205051\n",
       "std     28.504286   29.071481\n",
       "min      0.000000   -3.467884\n",
       "25%     27.000000   25.676502\n",
       "50%     53.000000   52.170557\n",
       "75%     73.000000   74.303007\n",
       "max    100.000000  105.591837"
      ]
     },
     "execution_count": 77,
     "metadata": {},
     "output_type": "execute_result"
    }
   ],
   "source": [
    "data.describe()"
   ]
  },
  {
   "cell_type": "code",
   "execution_count": 78,
   "metadata": {
    "scrolled": true
   },
   "outputs": [
    {
     "name": "stdout",
     "output_type": "stream",
     "text": [
      "<class 'pandas.core.frame.DataFrame'>\n",
      "RangeIndex: 300 entries, 0 to 299\n",
      "Data columns (total 2 columns):\n",
      "x    300 non-null int64\n",
      "y    300 non-null float64\n",
      "dtypes: float64(1), int64(1)\n",
      "memory usage: 4.8 KB\n"
     ]
    }
   ],
   "source": [
    "data.info()"
   ]
  },
  {
   "cell_type": "code",
   "execution_count": 93,
   "metadata": {},
   "outputs": [
    {
     "name": "stdout",
     "output_type": "stream",
     "text": [
      "(array([ 0.9945453]), array([  1.32551471e-294]))\n"
     ]
    }
   ],
   "source": [
    "#check correlation between the two variables\n",
    "print(pearsonr(data[['x']],data[['y']]))\n",
    "# result is the correlation coefficient and associated p-value"
   ]
  },
  {
   "cell_type": "code",
   "execution_count": 91,
   "metadata": {
    "collapsed": true
   },
   "outputs": [],
   "source": [
    "# Preprocess the data to remove any points with a missing y value\n",
    "filtered_data= data[~np.isnan(data['y'])] #removes rows with NAN in them\n",
    "filtered_data=filtered_data.dropna()"
   ]
  },
  {
   "cell_type": "code",
   "execution_count": 110,
   "metadata": {
    "collapsed": true,
    "scrolled": true
   },
   "outputs": [],
   "source": [
    "# Fit a linear regression model using sklearn's LinearRegression package\n",
    "npMatrix=np.matrix(filtered_data)\n",
    "X,Y= npMatrix[:,0], npMatrix[:,1] #convert them into numpy array for modeling\n"
   ]
  },
  {
   "cell_type": "code",
   "execution_count": 115,
   "metadata": {},
   "outputs": [
    {
     "name": "stdout",
     "output_type": "stream",
     "text": [
      "(300, 1)\n",
      "(300, 1)\n"
     ]
    }
   ],
   "source": [
    "print(X.shape)\n",
    "print(Y.shape)"
   ]
  },
  {
   "cell_type": "code",
   "execution_count": null,
   "metadata": {
    "collapsed": true
   },
   "outputs": [],
   "source": [
    "model_1=LinearRegression().fit(X,Y) #fitting the model means training the model"
   ]
  },
  {
   "cell_type": "code",
   "execution_count": 111,
   "metadata": {
    "collapsed": true
   },
   "outputs": [],
   "source": [
    "y_pred = model_1.predict(npMatrix[:,0]) #predictions"
   ]
  },
  {
   "cell_type": "code",
   "execution_count": 112,
   "metadata": {},
   "outputs": [
    {
     "data": {
      "text/plain": [
       "0.98912036114027158"
      ]
     },
     "execution_count": 112,
     "metadata": {},
     "output_type": "execute_result"
    }
   ],
   "source": [
    "model_1.score(X,Y)"
   ]
  },
  {
   "cell_type": "code",
   "execution_count": 114,
   "metadata": {},
   "outputs": [
    {
     "name": "stdout",
     "output_type": "stream",
     "text": [
      "0.98912036114\n",
      "9.16428786061\n"
     ]
    }
   ],
   "source": [
    "#alternate way of getting explained variance\n",
    "from sklearn.metrics import r2_score, mean_squared_error\n",
    "print(r2_score(Y,y_pred)) \n",
    "print(mean_squared_error(Y,y_pred))"
   ]
  },
  {
   "cell_type": "code",
   "execution_count": 103,
   "metadata": {
    "collapsed": true,
    "scrolled": true
   },
   "outputs": [],
   "source": [
    "m = model.coef_ #array of all the possible coefficients\n",
    "b = model.intercept_\n"
   ]
  },
  {
   "cell_type": "code",
   "execution_count": 104,
   "metadata": {
    "scrolled": true
   },
   "outputs": [
    {
     "name": "stdout",
     "output_type": "stream",
     "text": [
      "formula: y = [[ 1.01433536]]x + [-0.46181077]\n"
     ]
    }
   ],
   "source": [
    "#y=mx + b\n",
    "print (\"formula: y = {0}x + {1}\".format(m, b)) # following slope intercept form"
   ]
  },
  {
   "cell_type": "code",
   "execution_count": 84,
   "metadata": {
    "collapsed": true
   },
   "outputs": [],
   "source": [
    "X=np.array(X)\n",
    "Y=np.array(Y)"
   ]
  },
  {
   "cell_type": "code",
   "execution_count": 85,
   "metadata": {
    "scrolled": false
   },
   "outputs": [
    {
     "data": {
      "image/png": "[encoded data removed]",
      "text/plain": [
       "<matplotlib.figure.Figure at 0x20b2516fa58>"
      ]
     },
     "metadata": {},
     "output_type": "display_data"
    }
   ],
   "source": [
    "plt.scatter(X,Y, color='blue')\n",
    "plt.plot([0,100],[b,m*100+b],'r') #plot 'red' coloured regression line\n",
    "plt.title('Linear Regression Example', fontsize = 20)\n",
    "plt.xlabel('X', fontsize = 15)\n",
    "plt.ylabel('Y', fontsize = 15)\n",
    "plt.show()\n"
   ]
  },
  {
   "cell_type": "code",
   "execution_count": 108,
   "metadata": {},
   "outputs": [
    {
     "data": {
      "text/html": [
       "<table class=\"simpletable\">\n",
       "<caption>OLS Regression Results</caption>\n",
       "<tr>\n",
       "  <th>Dep. Variable:</th>            <td>y</td>        <th>  R-squared:         </th> <td>   0.997</td> \n",
       "</tr>\n",
       "<tr>\n",
       "  <th>Model:</th>                   <td>OLS</td>       <th>  Adj. R-squared:    </th> <td>   0.997</td> \n",
       "</tr>\n",
       "<tr>\n",
       "  <th>Method:</th>             <td>Least Squares</td>  <th>  F-statistic:       </th> <td>1.121e+05</td>\n",
       "</tr>\n",
       "<tr>\n",
       "  <th>Date:</th>             <td>Sat, 27 Jan 2018</td> <th>  Prob (F-statistic):</th>  <td>  0.00</td>  \n",
       "</tr>\n",
       "<tr>\n",
       "  <th>Time:</th>                 <td>14:44:40</td>     <th>  Log-Likelihood:    </th> <td> -758.81</td> \n",
       "</tr>\n",
       "<tr>\n",
       "  <th>No. Observations:</th>      <td>   300</td>      <th>  AIC:               </th> <td>   1520.</td> \n",
       "</tr>\n",
       "<tr>\n",
       "  <th>Df Residuals:</th>          <td>   299</td>      <th>  BIC:               </th> <td>   1523.</td> \n",
       "</tr>\n",
       "<tr>\n",
       "  <th>Df Model:</th>              <td>     1</td>      <th>                     </th>     <td> </td>    \n",
       "</tr>\n",
       "<tr>\n",
       "  <th>Covariance Type:</th>      <td>nonrobust</td>    <th>                     </th>     <td> </td>    \n",
       "</tr>\n",
       "</table>\n",
       "<table class=\"simpletable\">\n",
       "<tr>\n",
       "   <td></td>     <th>coef</th>     <th>std err</th>      <th>t</th>      <th>P>|t|</th>  <th>[0.025</th>    <th>0.975]</th>  \n",
       "</tr>\n",
       "<tr>\n",
       "  <th>x1</th> <td>    1.0074</td> <td>    0.003</td> <td>  334.824</td> <td> 0.000</td> <td>    1.002</td> <td>    1.013</td>\n",
       "</tr>\n",
       "</table>\n",
       "<table class=\"simpletable\">\n",
       "<tr>\n",
       "  <th>Omnibus:</th>       <td> 0.871</td> <th>  Durbin-Watson:     </th> <td>   2.007</td>\n",
       "</tr>\n",
       "<tr>\n",
       "  <th>Prob(Omnibus):</th> <td> 0.647</td> <th>  Jarque-Bera (JB):  </th> <td>   0.658</td>\n",
       "</tr>\n",
       "<tr>\n",
       "  <th>Skew:</th>          <td> 0.100</td> <th>  Prob(JB):          </th> <td>   0.720</td>\n",
       "</tr>\n",
       "<tr>\n",
       "  <th>Kurtosis:</th>      <td> 3.113</td> <th>  Cond. No.          </th> <td>    1.00</td>\n",
       "</tr>\n",
       "</table>"
      ],
      "text/plain": [
       "<class 'statsmodels.iolib.summary.Summary'>\n",
       "\"\"\"\n",
       "                            OLS Regression Results                            \n",
       "==============================================================================\n",
       "Dep. Variable:                      y   R-squared:                       0.997\n",
       "Model:                            OLS   Adj. R-squared:                  0.997\n",
       "Method:                 Least Squares   F-statistic:                 1.121e+05\n",
       "Date:                Sat, 27 Jan 2018   Prob (F-statistic):               0.00\n",
       "Time:                        14:44:40   Log-Likelihood:                -758.81\n",
       "No. Observations:                 300   AIC:                             1520.\n",
       "Df Residuals:                     299   BIC:                             1523.\n",
       "Df Model:                           1                                         \n",
       "Covariance Type:            nonrobust                                         \n",
       "==============================================================================\n",
       "                 coef    std err          t      P>|t|      [0.025      0.975]\n",
       "------------------------------------------------------------------------------\n",
       "x1             1.0074      0.003    334.824      0.000       1.002       1.013\n",
       "==============================================================================\n",
       "Omnibus:                        0.871   Durbin-Watson:                   2.007\n",
       "Prob(Omnibus):                  0.647   Jarque-Bera (JB):                0.658\n",
       "Skew:                           0.100   Prob(JB):                        0.720\n",
       "Kurtosis:                       3.113   Cond. No.                         1.00\n",
       "==============================================================================\n",
       "\n",
       "Warnings:\n",
       "[1] Standard Errors assume that the covariance matrix of the errors is correctly specified.\n",
       "\"\"\""
      ]
     },
     "execution_count": 108,
     "metadata": {},
     "output_type": "execute_result"
    }
   ],
   "source": [
    "import statsmodels.api as sm\n",
    "\n",
    "# Note the difference in argument order\n",
    "model = sm.OLS(Y, X).fit() #ordinary least square regression\n",
    "predictions = model.predict(X) # make the predictions by the model\n",
    "\n",
    "# Print out the statistics\n",
    "model.summary()"
   ]
  },
  {
   "cell_type": "code",
   "execution_count": 9,
   "metadata": {
    "scrolled": false
   },
   "outputs": [
    {
     "name": "stdout",
     "output_type": "stream",
     "text": [
      "\n",
      "Please wait a moment while I gather a list of all available modules...\n",
      "\n"
     ]
    },
    {
     "name": "stderr",
     "output_type": "stream",
     "text": [
      "C:\\Users\\Gautam\\Anaconda3\\lib\\site-packages\\IPython\\kernel\\__init__.py:13: ShimWarning: The `IPython.kernel` package has been deprecated since IPython 4.0.You should import from ipykernel or jupyter_client instead.\n",
      "  \"You should import from ipykernel or jupyter_client instead.\", ShimWarning)\n",
      "C:\\Users\\Gautam\\Anaconda3\\lib\\site-packages\\odo\\backends\\pandas.py:94: FutureWarning: pandas.tslib is deprecated and will be removed in a future version.\n",
      "You can access NaTType as type(pandas.NaT)\n",
      "  @convert.register((pd.Timestamp, pd.Timedelta), (pd.tslib.NaTType, type(None)))\n",
      "C:\\Users\\Gautam\\Anaconda3\\lib\\site-packages\\blaze\\server\\server.py:17: ExtDeprecationWarning: Importing flask.ext.cors is deprecated, use flask_cors instead.\n",
      "  from flask.ext.cors import cross_origin\n",
      "C:\\Users\\Gautam\\Anaconda3\\lib\\site-packages\\bokeh\\util\\deprecation.py:34: BokehDeprecationWarning: MPL compatibility can no longer be successfully maintained, and is now deprecated. All MPL compat functions will be removed completely on the release of Bokeh 1.0. See http://bokeh.pydata.org/en/latest/docs/releases/0.12.5.html for more information\n",
      "  warn(message)\n",
      "C:\\Users\\Gautam\\Anaconda3\\lib\\site-packages\\matplotlib\\cbook.py:136: MatplotlibDeprecationWarning: The matplotlib.delaunay module was deprecated in version 1.4. Use matplotlib.tri.Triangulation instead.\n",
      "  warnings.warn(message, mplDeprecation, stacklevel=1)\n",
      "C:\\Users\\Gautam\\Anaconda3\\lib\\site-packages\\nltk\\twitter\\__init__.py:20: UserWarning: The twython library has not been installed. Some functionality from the twitter package will not be available.\n",
      "  warnings.warn(\"The twython library has not been installed. \"\n",
      "C:\\Users\\Gautam\\Anaconda3\\lib\\site-packages\\skimage\\viewer\\utils\\core.py:10: UserWarning: Recommended matplotlib backend is `Agg` for full skimage.viewer functionality.\n",
      "  warn(\"Recommended matplotlib backend is `Agg` for full \"\n",
      "C:\\Users\\Gautam\\Anaconda3\\lib\\site-packages\\qtawesome\\iconic_font.py:268: UserWarning: You need to have a running QApplication to use QtAwesome!\n",
      "  warnings.warn(\"You need to have a running \"\n",
      "C:\\Users\\Gautam\\Anaconda3\\lib\\site-packages\\statsmodels\\compat\\pandas.py:56: FutureWarning: The pandas.core.datetools module is deprecated and will be removed in a future version. Please use the pandas.tseries module instead.\n",
      "  from pandas.core import datetools\n"
     ]
    },
    {
     "name": "stdout",
     "output_type": "stream",
     "text": [
      "Crypto              chardet             msgpack             sqlalchemy\n",
      "Cython              chunk               msilib              sqlite3\n",
      "IPython             click               msvcrt              sre_compile\n",
      "OleFileIO_PL        cloudpickle         multipledispatch    sre_constants\n",
      "OpenSSL             clyent              multiprocessing     sre_parse\n",
      "PIL                 cmath               navigator_updater   ssl\n",
      "PyQt5               cmd                 nbconvert           sspi\n",
      "__future__          code                nbformat            sspicon\n",
      "_ast                codecs              netbios             stat\n",
      "_asyncio            codeop              netrc               statistics\n",
      "_bisect             collections         networkx            statsmodels\n",
      "_blake2             colorama            nltk                storemagic\n",
      "_bootlocale         colorsys            nntplib             string\n",
      "_bz2                commctrl            nose                stringprep\n",
      "_cffi_backend       compileall          notebook            struct\n",
      "_codecs             comtypes            nt                  subprocess\n",
      "_codecs_cn          concurrent          ntpath              sunau\n",
      "_codecs_hk          conda               ntsecuritycon       symbol\n",
      "_codecs_iso2022     conda_env           nturl2path          sympy\n",
      "_codecs_jp          configparser        numba               sympyprinting\n",
      "_codecs_kr          contextlib          numbers             symtable\n",
      "_codecs_tw          contextlib2         numexpr             sys\n",
      "_collections        copy                numpy               sysconfig\n",
      "_collections_abc    copyreg             numpydoc            tables\n",
      "_compat_pickle      crypt               odbc                tabnanny\n",
      "_compression        cryptography        odo                 tarfile\n",
      "_csv                csv                 olefile             tblib\n",
      "_ctypes             ctypes              opcode              telnetlib\n",
      "_ctypes_test        curl                openpyxl            tempfile\n",
      "_datetime           curses              operator            test\n",
      "_decimal            cwp                 optparse            test_path\n",
      "_dummy_thread       cycler              os                  test_pycosat\n",
      "_elementtree        cython              packaging           testpath\n",
      "_functools          cythonmagic         pandas              tests\n",
      "_hashlib            cytoolz             pandocfilters       textwrap\n",
      "_heapq              dask                parser              this\n",
      "_imp                datashape           partd               threading\n",
      "_io                 datetime            path                time\n",
      "_json               dateutil            pathlib             timeit\n",
      "_license            dbi                 pathlib2            timer\n",
      "_locale             dbm                 patsy               tkinter\n",
      "_lsprof             dde                 pdb                 tlz\n",
      "_lzma               decimal             pep8                token\n",
      "_markupbase         decorator           perfmon             tokenize\n",
      "_md5                difflib             pickle              toolz\n",
      "_msi                dis                 pickleshare         tornado\n",
      "_multibytecodec     distributed         pickletools         trace\n",
      "_multiprocessing    distutils           pip                 traceback\n",
      "_nsis               doctest             pipes               tracemalloc\n",
      "_opcode             docutils            pkg_resources       traitlets\n",
      "_operator           dummy_threading     pkgutil             tty\n",
      "_osx_support        easy_install        platform            turtle\n",
      "_overlapped         email               plistlib            turtledemo\n",
      "_pickle             encodings           ply                 types\n",
      "_pydecimal          ensurepip           poplib              typing\n",
      "_pyio               entrypoints         posixpath           unicodecsv\n",
      "_pytest             enum                pprint              unicodedata\n",
      "_random             errno               profile             unittest\n",
      "_sha1               et_xmlfile          prompt_toolkit      urllib\n",
      "_sha256             fastcache           pstats              uu\n",
      "_sha3               faulthandler        psutil              uuid\n",
      "_sha512             filecmp             pty                 venv\n",
      "_signal             fileinput           py                  warnings\n",
      "_sitebuiltins       flask               py_compile          wave\n",
      "_socket             flask_cors          pyclbr              wcwidth\n",
      "_sqlite3            fnmatch             pycosat             weakref\n",
      "_sre                formatter           pycparser           webbrowser\n",
      "_ssl                fractions           pycurl              werkzeug\n",
      "_stat               ftplib              pydataset           wheel\n",
      "_string             functools           pydoc               widgetsnbextension\n",
      "_strptime           gc                  pydoc_data          win2kras\n",
      "_struct             genericpath         pyexpat             win32api\n",
      "_symtable           getopt              pyflakes            win32clipboard\n",
      "_system_path        getpass             pygments            win32com\n",
      "_testbuffer         gettext             pylab               win32con\n",
      "_testcapi           gevent              pylint              win32console\n",
      "_testconsole        glob                pyodbc              win32cred\n",
      "_testimportmultiple greenlet            pyparsing           win32crypt\n",
      "_testmultiphase     gzip                pytest              win32cryptcon\n",
      "_thread             h5py                pythoncom           win32event\n",
      "_threading_local    hashlib             pytz                win32evtlog\n",
      "_tkinter            heapdict            pywin               win32evtlogutil\n",
      "_tracemalloc        heapq               pywin32_testutil    win32file\n",
      "_warnings           hmac                pywintypes          win32gui\n",
      "_weakref            html                pywt                win32gui_struct\n",
      "_weakrefset         html5lib            pyximport           win32help\n",
      "_win32sysloader     http                qtawesome           win32inet\n",
      "_winapi             idlelib             qtconsole           win32inetcon\n",
      "_winxptheme         idna                qtpy                win32job\n",
      "abc                 imagesize           queue               win32lz\n",
      "adodbapi            imaplib             quopri              win32net\n",
      "afxres              imghdr              random              win32netcon\n",
      "aifc                imp                 rasutil             win32pdh\n",
      "alabaster           importlib           re                  win32pdhquery\n",
      "anaconda_navigator  inspect             regcheck            win32pdhutil\n",
      "anaconda_project    io                  regutil             win32pipe\n",
      "antigravity         ipaddress           reprlib             win32print\n",
      "argparse            ipykernel           requests            win32process\n",
      "array               ipykernel_launcher  rlcompleter         win32profile\n",
      "asn1crypto          ipython_genutils    rmagic              win32ras\n",
      "ast                 ipywidgets          rope                win32rcparser\n",
      "astroid             isapi               ruamel_yaml         win32security\n",
      "astropy             isort               run                 win32service\n",
      "asynchat            itertools           runpy               win32serviceutil\n",
      "asyncio             itsdangerous        sched               win32timezone\n",
      "asyncore            jdcal               scipy               win32trace\n",
      "atexit              jedi                scripts             win32traceutil\n",
      "audioop             jinja2              seaborn             win32transaction\n",
      "autoreload          json                secrets             win32ts\n",
      "babel               jsonschema          select              win32ui\n",
      "backports           jupyter             selectors           win32uiole\n",
      "base64              jupyter_client      servicemanager      win32verstamp\n",
      "bdb                 jupyter_console     setuptools          win32wnet\n",
      "binascii            jupyter_core        shelve              win_unicode_console\n",
      "binhex              keyword             shlex               winerror\n",
      "binstar_client      lazy_object_proxy   shutil              winioctlcon\n",
      "bisect              lib2to3             signal              winnt\n",
      "bitarray            linecache           simplegeneric       winperf\n",
      "blaze               llvmlite            singledispatch      winreg\n",
      "bleach              locale              singledispatch_helpers winsound\n",
      "bokeh               locket              sip                 winxpgui\n",
      "boto                logging             sipconfig           winxptheme\n",
      "bottleneck          lxml                sipdistutils        wrapt\n",
      "brain_builtin_inference lzma                site                wsgiref\n",
      "brain_dateutil      macpath             six                 xdrlib\n",
      "brain_gi            macurl2path         skimage             xlrd\n",
      "brain_mechanize     mailbox             sklearn             xlsxwriter\n",
      "brain_nose          mailcap             smtpd               xlwings\n",
      "brain_numpy         markupsafe          smtplib             xlwt\n",
      "brain_pytest        marshal             sndhdr              xml\n",
      "brain_qt            math                snowballstemmer     xmlrpc\n",
      "brain_six           matplotlib          socket              xxsubtype\n",
      "brain_ssl           menuinst            socketserver        yaml\n",
      "brain_stdlib        mimetypes           sortedcollections   zict\n",
      "bs4                 mistune             sortedcontainers    zipapp\n",
      "builtins            mkl                 sphinx              zipfile\n",
      "bz2                 mmap                spyder              zipimport\n",
      "cProfile            mmapfile            spyder_breakpoints  zlib\n",
      "calendar            mmsystem            spyder_io_dcm       zmq\n",
      "cffi                modulefinder        spyder_io_hdf5      \n",
      "cgi                 mpl_toolkits        spyder_profiler     \n",
      "cgitb               mpmath              spyder_pylint       \n",
      "\n",
      "Enter any module name to get more help.  Or, type \"modules spam\" to search\n",
      "for modules whose name or summary contain the string \"spam\".\n",
      "\n"
     ]
    }
   ],
   "source": [
    "help('modules')"
   ]
  }
 ],
 "metadata": {
  "kernelspec": {
   "display_name": "Python 3",
   "language": "python",
   "name": "python3"
  },
  "language_info": {
   "codemirror_mode": {
    "name": "ipython",
    "version": 3
   },
   "file_extension": ".py",
   "mimetype": "text/x-python",
   "name": "python",
   "nbconvert_exporter": "python",
   "pygments_lexer": "ipython3",
   "version": "3.6.1"
  }
 },
 "nbformat": 4,
 "nbformat_minor": 2
}
